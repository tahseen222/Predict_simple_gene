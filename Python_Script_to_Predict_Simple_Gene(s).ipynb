{
  "nbformat": 4,
  "nbformat_minor": 0,
  "metadata": {
    "colab": {
      "provenance": [],
      "authorship_tag": "ABX9TyPP3jDl1txvrWgo9HbHTQbI",
      "include_colab_link": true
    },
    "kernelspec": {
      "name": "python3",
      "display_name": "Python 3"
    },
    "language_info": {
      "name": "python"
    }
  },
  "cells": [
    {
      "cell_type": "markdown",
      "metadata": {
        "id": "view-in-github",
        "colab_type": "text"
      },
      "source": [
        "<a href=\"https://colab.research.google.com/github/tahseen222/Predict_simple_gene/blob/main/Python_Script_to_Predict_Simple_Gene(s).ipynb\" target=\"_parent\"><img src=\"https://colab.research.google.com/assets/colab-badge.svg\" alt=\"Open In Colab\"/></a>"
      ]
    },
    {
      "cell_type": "code",
      "execution_count": 7,
      "metadata": {
        "colab": {
          "base_uri": "https://localhost:8080/"
        },
        "id": "MMQUx2jMaAaE",
        "outputId": "925abe64-6d8b-4a02-84a7-066ed31a6219"
      },
      "outputs": [
        {
          "output_type": "stream",
          "name": "stdout",
          "text": [
            "Enter the promoter sequence: ATGAAG  TTTATTCAGA  AGTACCATAT\n",
            "Promoter sequence not found in the DNA sequence\n"
          ]
        }
      ],
      "source": [
        "from Bio import SeqIO\n",
        "\n",
        "def find_gene(sequence, promoter_sequence):\n",
        "    # Find the promoter sequence in the DNA sequence\n",
        "    promoter_index = sequence.find(promoter_sequence)\n",
        "\n",
        "    if promoter_index != -1:\n",
        "        # Look for the start codon within 30 bases of the promoter\n",
        "        start_codon_index = sequence.find('ATG', promoter_index, promoter_index + 30)\n",
        "\n",
        "        if start_codon_index != -1:\n",
        "            # Convert DNA sequence to RNA sequence\n",
        "            rna_sequence = sequence.replace('T', 'U')\n",
        "\n",
        "            # Convert RNA sequence to protein sequence\n",
        "            protein_sequence = Seq(rna_sequence).translate()\n",
        "\n",
        "            # Search for a stop codon after the start codon\n",
        "            stop_codon_found = False\n",
        "            for i in range(start_codon_index + 3, len(protein_sequence) - 50):\n",
        "                if protein_sequence[i:i+3] == '*':\n",
        "                    stop_codon_found = True\n",
        "                    break\n",
        "\n",
        "            if stop_codon_found:\n",
        "                print('Gene found')\n",
        "            else:\n",
        "                print('Gene not found')\n",
        "        else:\n",
        "            print('Start codon not found within 30 bases of the promoter')\n",
        "    else:\n",
        "        print('Promoter sequence not found in the DNA sequence')\n",
        "\n",
        "# Read DNA sequence from a FASTA file\n",
        "sequence_file = \"dna_sequence.fasta\"\n",
        "record = next(SeqIO.parse(sequence_file, \"fasta\"))\n",
        "dna_sequence = str(record.seq)\n",
        "\n",
        "# User input for promoter sequence\n",
        "promoter_sequence = input(\"Enter the promoter sequence: \")\n",
        "\n",
        "# Call the function to find the gene\n",
        "find_gene(dna_sequence, promoter_sequence)\n"
      ]
    },
    {
      "cell_type": "code",
      "source": [
        "!pip install biopython\n"
      ],
      "metadata": {
        "colab": {
          "base_uri": "https://localhost:8080/"
        },
        "id": "64OuaAKMa7rI",
        "outputId": "722374b3-65f0-40a3-97a0-96a25f982d88"
      },
      "execution_count": 2,
      "outputs": [
        {
          "output_type": "stream",
          "name": "stdout",
          "text": [
            "Collecting biopython\n",
            "  Downloading biopython-1.81-cp310-cp310-manylinux_2_17_x86_64.manylinux2014_x86_64.whl (3.1 MB)\n",
            "\u001b[2K     \u001b[90m━━━━━━━━━━━━━━━━━━━━━━━━━━━━━━━━━━━━━━━━\u001b[0m \u001b[32m3.1/3.1 MB\u001b[0m \u001b[31m8.8 MB/s\u001b[0m eta \u001b[36m0:00:00\u001b[0m\n",
            "\u001b[?25hRequirement already satisfied: numpy in /usr/local/lib/python3.10/dist-packages (from biopython) (1.23.5)\n",
            "Installing collected packages: biopython\n",
            "Successfully installed biopython-1.81\n"
          ]
        }
      ]
    },
    {
      "cell_type": "code",
      "source": [
        "from Bio import SeqIO\n",
        "\n",
        "# Example FASTA content\n",
        "fasta_content = \"\"\">SequenceName\n",
        "GTTCGTTGCAACAAATTGATGAGCAATGCTTTTTTATAATGCCAACTTTGTACAAAAAAGTTGGCATGAA...\n",
        "\"\"\"\n",
        "\n",
        "# Create a temporary FASTA file\n",
        "with open('temp.fasta', 'w') as f:\n",
        "    f.write(fasta_content)\n",
        "\n",
        "# Read DNA sequence from the FASTA file\n",
        "record = next(SeqIO.parse('temp.fasta', 'fasta'))\n",
        "dna_sequence = str(record.seq)\n",
        "\n",
        "# Print the DNA sequence\n",
        "print(dna_sequence)\n"
      ],
      "metadata": {
        "colab": {
          "base_uri": "https://localhost:8080/"
        },
        "id": "8ZyLreM7bI_0",
        "outputId": "b6cca782-3163-4190-d4ed-9e77c8280ded"
      },
      "execution_count": 3,
      "outputs": [
        {
          "output_type": "stream",
          "name": "stdout",
          "text": [
            "GTTCGTTGCAACAAATTGATGAGCAATGCTTTTTTATAATGCCAACTTTGTACAAAAAAGTTGGCATGAA...\n"
          ]
        }
      ]
    }
  ]
}